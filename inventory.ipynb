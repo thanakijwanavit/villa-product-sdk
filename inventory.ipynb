{
 "cells": [
  {
   "cell_type": "code",
   "execution_count": 1,
   "metadata": {},
   "outputs": [],
   "source": [
    "# default_exp inventory"
   ]
  },
  {
   "cell_type": "code",
   "execution_count": 2,
   "metadata": {},
   "outputs": [],
   "source": [
    "#hide\n",
    "!pip install -q nbdev lambdasdk s3bz"
   ]
  },
  {
   "cell_type": "code",
   "execution_count": 3,
   "metadata": {},
   "outputs": [],
   "source": [
    "#hide\n",
    "import pickle\n",
    "KEY = ''\n",
    "PW = ''\n",
    "keypath = '/Users/nic/.villa-product-master-inventory'\n",
    "if KEY and PW:\n",
    "  with open (keypath, 'wb') as f:\n",
    "    pickle.dump({\n",
    "        'KEY': KEY,\n",
    "        'PW': PW\n",
    "    }, f)\n",
    "with open(keypath, 'rb') as f:\n",
    "  creden = pickle.load(f)\n",
    "USER = creden['KEY']\n",
    "PW = creden['PW']"
   ]
  },
  {
   "cell_type": "markdown",
   "metadata": {},
   "source": [
    "# Inventory\n",
    "\n",
    "> API details."
   ]
  },
  {
   "cell_type": "code",
   "execution_count": 4,
   "metadata": {},
   "outputs": [],
   "source": [
    "#hide\n",
    "from nbdev.showdoc import *"
   ]
  },
  {
   "cell_type": "code",
   "execution_count": 5,
   "metadata": {},
   "outputs": [],
   "source": [
    "#export\n",
    "from botocore.config import Config\n",
    "from s3bz.s3bz import S3, Requests\n",
    "from lambdasdk.lambdasdk import Lambda\n",
    "import bz2, json, boto3, base64, logging"
   ]
  },
  {
   "cell_type": "code",
   "execution_count": null,
   "metadata": {},
   "outputs": [],
   "source": []
  },
  {
   "cell_type": "code",
   "execution_count": 6,
   "metadata": {},
   "outputs": [],
   "source": [
    "#export\n",
    "class InventorySdk:\n",
    "  \n",
    "  def __init__(self, stackName = 'dev', user = None, pw = None, region = 'ap-southeast-1'):\n",
    "    self.stackName = stackName\n",
    "    self.lambdaClient = Lambda(user =user, pw=pw, region = region)\n",
    "    self.user = user; self.pw = pw; self.region = region\n",
    "    \n",
    "    \n",
    "  def updateWithS3(self, data, \n",
    "                   inputKeyName = 'input-data-name', \n",
    "                   inputBucketName = 'input-bucket-name', \n",
    "                   functionName='update-inventory-s3-dev-manual',\n",
    "                   user= None, pw= None,\n",
    "                   invocationType = 'Event'):\n",
    "    user = user or self.user; pw = pw or self.pw\n",
    "    \n",
    "    S3.save(key = inputKeyName, \n",
    "            objectToSave = data , \n",
    "            bucket = inputBucketName,\n",
    "            user=user, pw=pw)\n",
    "    logging.info(f'data is saved to s3, invoking ingestion function')\n",
    "    \n",
    "    lambdaPayload = {\n",
    "        'inputBucketName': inputBucketName,\n",
    "        'inputKeyName': inputKeyName\n",
    "    }\n",
    "    logging.info(f'input to lambda is {lambdaPayload}')\n",
    "    return self.lambdaClient.invoke(functionName= functionName ,input=lambdaPayload,\n",
    "                                    invocationType= invocationType )\n",
    "\n",
    "  def querySingleProduct(self, functionName='single-product-query-dev-manual', \n",
    "                         ib_prcode= None, user=None, pw=None):\n",
    "    '''query a single product'''\n",
    "    input = { 'ib_prcode': ib_prcode }\n",
    "    return self.lambdaClient.invoke(\n",
    "        functionName = functionName, input = input )['Payload'].read()\n"
   ]
  },
  {
   "cell_type": "code",
   "execution_count": 7,
   "metadata": {},
   "outputs": [],
   "source": [
    "from dataclasses import dataclass\n",
    "from dataclasses_json import dataclass_json\n",
    "from random import randrange\n",
    "from datetime import datetime\n",
    "import boto3\n"
   ]
  },
  {
   "cell_type": "markdown",
   "metadata": {},
   "source": [
    "## generate dummy data for testing"
   ]
  },
  {
   "cell_type": "code",
   "execution_count": 8,
   "metadata": {},
   "outputs": [
    {
     "data": {
      "text/plain": [
       "{'ib_prcode': '90335',\n",
       " 'ib_brcode': '1002',\n",
       " 'ib_cf_qty': '672',\n",
       " 'new_ib_vs_stock_cv': '956'}"
      ]
     },
     "execution_count": 8,
     "metadata": {},
     "output_type": "execute_result"
    }
   ],
   "source": [
    "#Dummy Data\n",
    "numberOfRows = 1000\n",
    "@dataclass_json\n",
    "@dataclass\n",
    "class Inventory:\n",
    "  ib_prcode:str\n",
    "  ib_brcode:str\n",
    "  ib_cf_qty:str\n",
    "  new_ib_vs_stock_cv:str\n",
    "\n",
    "sampleLargeRandomInput = [ Inventory.from_dict({\n",
    "    'ib_brcode' : str(randrange(1000,1030,1)),\n",
    "    'ib_prcode' : str(randrange(10000,100000,1)),\n",
    "    'ib_cf_qty' : str(randrange(-10,1000,1)),\n",
    "    'new_ib_vs_stock_cv' : str(randrange(-10,1000,1))\n",
    "  }).to_dict() for _ in range(numberOfRows)]\n",
    "sampleLargeRandomInput[0]"
   ]
  },
  {
   "cell_type": "markdown",
   "metadata": {},
   "source": [
    "## Upload the batch data"
   ]
  },
  {
   "cell_type": "code",
   "execution_count": 9,
   "metadata": {},
   "outputs": [],
   "source": [
    "#hide\n",
    "inputBucketName= 'input-bucket-dev-manual'\n",
    "functionName= 'update-inventory-s3-dev-manual'\n",
    "invocationType = 'RequestResponse'"
   ]
  },
  {
   "cell_type": "code",
   "execution_count": 10,
   "metadata": {},
   "outputs": [
    {
     "name": "stdout",
     "output_type": "stream",
     "text": [
      "uploading 1000 items\n",
      "it took 15 s\n",
      "{\"statusCode\": 200, \"result\": {\"success\": 997, \"failure\": 0, \"failureMessage\": [], \"timeTaken\": 13}}\n"
     ]
    }
   ],
   "source": [
    "#example\n",
    "t0 = datetime.now()\n",
    "print(f'uploading {len(sampleLargeRandomInput)} items')\n",
    "sdk = InventorySdk(user=USER, pw=PW)\n",
    "result = sdk.updateWithS3(\n",
    "    sampleLargeRandomInput,\n",
    "    inputBucketName= 'input-bucket-dev-manual', \n",
    "    functionName= 'update-inventory-s3-dev-manual',\n",
    "    invocationType = 'RequestResponse'\n",
    "  )\n",
    "dt = datetime.now()-t0\n",
    "print(f'it took {dt.seconds} s')\n",
    "print(result)"
   ]
  },
  {
   "cell_type": "code",
   "execution_count": 11,
   "metadata": {},
   "outputs": [
    {
     "name": "stdout",
     "output_type": "stream",
     "text": [
      "uploading 1000 items\n"
     ]
    },
    {
     "data": {
      "text/plain": [
       "'{\"statusCode\": 200, \"result\": {\"success\": 997, \"failure\": 0, \"failureMessage\": [], \"timeTaken\": 11}}'"
      ]
     },
     "execution_count": 11,
     "metadata": {},
     "output_type": "execute_result"
    }
   ],
   "source": [
    "def upload(input):\n",
    "  print(f'uploading {len(input)} items')\n",
    "  sdk = InventorySdk(user=USER, pw=PW)\n",
    "  return sdk.updateWithS3(\n",
    "      input,\n",
    "      inputBucketName= inputBucketName, \n",
    "      functionName= functionName,\n",
    "      invocationType = invocationType,\n",
    "      user=USER,\n",
    "      pw = PW\n",
    "    )\n",
    "\n",
    "upload(sampleLargeRandomInput)"
   ]
  },
  {
   "cell_type": "code",
   "execution_count": 12,
   "metadata": {},
   "outputs": [
    {
     "name": "stdout",
     "output_type": "stream",
     "text": [
      "Converted index.ipynb.\n",
      "Converted inventory.ipynb.\n"
     ]
    }
   ],
   "source": [
    "from nbdev.export import *\n",
    "notebook2script()"
   ]
  },
  {
   "cell_type": "code",
   "execution_count": null,
   "metadata": {},
   "outputs": [],
   "source": []
  }
 ],
 "metadata": {
  "kernelspec": {
   "display_name": "Python 3",
   "language": "python",
   "name": "python3"
  },
  "language_info": {
   "codemirror_mode": {
    "name": "ipython",
    "version": 3
   },
   "file_extension": ".py",
   "mimetype": "text/x-python",
   "name": "python",
   "nbconvert_exporter": "python",
   "pygments_lexer": "ipython3",
   "version": "3.8.2"
  }
 },
 "nbformat": 4,
 "nbformat_minor": 4
}
