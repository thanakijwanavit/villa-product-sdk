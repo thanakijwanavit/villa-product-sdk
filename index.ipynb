{
 "cells": [
  {
   "cell_type": "code",
   "execution_count": null,
   "metadata": {},
   "outputs": [],
   "source": [
    "#hide\n",
    "from villaProductSdk.products import *\n",
    "import logging\n",
    "logging.basicConfig(level=logging.INFO)"
   ]
  },
  {
   "cell_type": "markdown",
   "metadata": {},
   "source": [
    "# villaProductSdk\n",
    "[docs](https://thanakijwanavit.github.io/villa-product-sdk/)\n",
    "> read and write product information in real time"
   ]
  },
  {
   "cell_type": "markdown",
   "metadata": {},
   "source": [
    "## Install"
   ]
  },
  {
   "cell_type": "markdown",
   "metadata": {},
   "source": [
    "`pip install villaProductSdk`"
   ]
  },
  {
   "cell_type": "markdown",
   "metadata": {},
   "source": [
    "## How to use"
   ]
  },
  {
   "cell_type": "markdown",
   "metadata": {},
   "source": [
    "Uploading a large amount of data using s3"
   ]
  },
  {
   "cell_type": "code",
   "execution_count": null,
   "metadata": {},
   "outputs": [],
   "source": [
    "#hide\n",
    "import pickle\n",
    "isAws = True\n",
    "if isAws:\n",
    "  USER= None\n",
    "  PW = None\n",
    "else:\n",
    "  KEY = ''\n",
    "  PW = ''\n",
    "  keypath = '/Users/nic/.villa-product-master-inventory'\n",
    "  if KEY and PW:\n",
    "    with open (keypath, 'wb') as f:\n",
    "      pickle.dump({\n",
    "          'KEY': KEY,\n",
    "          'PW': PW\n",
    "      }, f)\n",
    "  with open(keypath, 'rb') as f:\n",
    "    creden = pickle.load(f)\n",
    "  USER = creden['KEY']\n",
    "  PW = creden['PW']"
   ]
  },
  {
   "cell_type": "markdown",
   "metadata": {},
   "source": [
    "## generate dummy data for testing"
   ]
  },
  {
   "cell_type": "code",
   "execution_count": null,
   "metadata": {},
   "outputs": [],
   "source": [
    "#Dummy Data\n",
    "sampleProducts = [{'cprcode': '0171670', 'iprcode': '0171670', 'oprcode': '0171670', 'ordertype': 'Y', 'pr_abb': 'JIRAPAT YOUNG KALE 2', 'pr_active': 'Y', 'pr_cgcode': '05', 'pr_code': '0171670', 'pr_dpcode': '19', 'pr_engname': 'IRAPAT YOUNG KALE 200 G.', 'pr_ggcode': '057', 'pr_market': 'JIRAPAT ยอดคะน้า 200 G.', 'pr_name': 'JIRAPAT ยอดคะน้า 200 G.', 'pr_puqty': '1', 'pr_sa_method': '1', 'pr_sucode1': 'CM845     ', 'pr_suref3': 'A', 'prtype': 'I', 'psqty': '1', 'pstype': '1'}, {'cprcode': '0235141', 'iprcode': '0235141', 'oprcode': '0235141', 'ordertype': 'Y', 'pr_abb': 'EEBOO-PZCT3-PUZZLE', 'pr_active': 'Y', 'pr_cgcode': '08', 'pr_code': '0235141', 'pr_dpcode': '19', 'pr_engname': 'EEBOO,ANIMAL COUNTING PUZZLE_3ED,PZCT3', 'pr_ggcode': '113', 'pr_market': 'eeboo,PUZZLE-PZCT3', 'pr_name': 'EEBOO-PZCT3-ตัวต่อนับเลข ANIMAL COUNTING_3ED', 'pr_puqty': '1', 'pr_sa_method': '1', 'pr_sucode1': 'CM1979    ', 'pr_suref3': 'A', 'prtype': 'I', 'psqty': '1', 'pstype': '1'}, {'cprcode': '0217153', 'iprcode': '0217153', 'oprcode': '0217153', 'ordertype': 'Y', 'pr_abb': 'COCOA LOCO MILK CHOC', 'pr_active': 'Y', 'pr_cgcode': '98', 'pr_code': '0217153', 'pr_dpcode': '28', 'pr_engname': 'COCOA LOCO MILK CHOCOLATE OWL LOLLY 26G.', 'pr_ggcode': '003', 'pr_market': 'COCOA LOCO MILK CHOCOLATE OWL', 'pr_name': 'COCOA LOCO MILK CHOCOLATE OWL LOLLY 26G.', 'pr_puqty': '24', 'pr_sa_method': '1', 'pr_sucode1': 'F1222     ', 'pr_suref3': 'S', 'prtype': 'I', 'psqty': '1', 'pstype': '1'}, {'cprcode': '0182223', 'iprcode': '0182223', 'oprcode': '0182223', 'ordertype': 'Y', 'pr_abb': 'CIRIO PIZZASSIMO 400', 'pr_active': 'Y', 'pr_cgcode': '06', 'pr_code': '0182223', 'pr_dpcode': '06', 'pr_engname': 'CIRIO PIZZASSIMO 400G.', 'pr_ggcode': '004', 'pr_market': 'CIRIO ซอสทำพิซซ่า 400 G.', 'pr_name': 'CIRIO ซอสทำพิซซ่า 400 G.', 'pr_puqty': '12', 'pr_sa_method': '1', 'pr_sucode1': '2589      ', 'pr_suref3': 'C', 'prtype': 'I', 'psqty': '1', 'pstype': '1'}, {'cprcode': '0124461', 'iprcode': '0124461', 'oprcode': '0124461', 'ordertype': 'Y', 'pr_abb': 'NEW CHOICE LYCHEE', 'pr_active': 'Y', 'pr_cgcode': '02', 'pr_code': '0124461', 'pr_dpcode': '02', 'pr_engname': 'NEW CHOICE LYCHEE', 'pr_ggcode': '003', 'pr_market': 'NEW CHOICE กลิ่นลิ้นจี่', 'pr_name': 'NEW CHOICE กลิ่นลิ้นจี่', 'pr_puqty': '12', 'pr_sa_method': '1', 'pr_sucode1': '695       ', 'pr_suref3': 'A', 'prtype': 'I', 'psqty': '1', 'pstype': '1'}]\n"
   ]
  },
  {
   "cell_type": "markdown",
   "metadata": {},
   "source": [
    "## Create main class object"
   ]
  },
  {
   "cell_type": "code",
   "execution_count": null,
   "metadata": {},
   "outputs": [],
   "source": [
    "from villaProductSdk.products import ProductSdk\n",
    "sdk = ProductSdk(branch = 'dev-manual', user=USER, pw=PW)"
   ]
  },
  {
   "cell_type": "markdown",
   "metadata": {},
   "source": [
    "## Upload lots of data using s3 "
   ]
  },
  {
   "cell_type": "code",
   "execution_count": null,
   "metadata": {},
   "outputs": [],
   "source": [
    "#hide"
   ]
  },
  {
   "cell_type": "code",
   "execution_count": null,
   "metadata": {},
   "outputs": [
    {
     "name": "stderr",
     "output_type": "stream",
     "text": [
      "INFO:root:bucket is input-product-bucket-dev-manual\n",
      "INFO:root:using accelerate endpoint\n",
      "INFO:root:data was saved to s3\n",
      "INFO:root:data is saved to s3, invoking ingestion function\n",
      "INFO:root:input to lambda is {'body': '{\"key\":\"input-data-name\"}', 'header': {}}\n",
      "INFO:root:lambdaResponse is {'body': '{\"success\": 1, \"failure\": 0, \"skipped\": 4, \"failureMessage\": [], \"timetaken\": 107.42500000000001}', 'statusCode': 200, 'header': {}}\n"
     ]
    },
    {
     "name": "stdout",
     "output_type": "stream",
     "text": [
      "CPU times: user 45.7 ms, sys: 15.8 ms, total: 61.5 ms\n",
      "Wall time: 3.34 s\n"
     ]
    },
    {
     "data": {
      "text/plain": [
       "{'success': 1,\n",
       " 'failure': 0,\n",
       " 'skipped': 4,\n",
       " 'failureMessage': [],\n",
       " 'timetaken': 107.42500000000001}"
      ]
     },
     "execution_count": null,
     "metadata": {},
     "output_type": "execute_result"
    }
   ],
   "source": [
    "%%time\n",
    "result = sdk.updateWithS3(\n",
    "    sampleProducts,\n",
    "    invocationType = 'RequestResponse'\n",
    "  )\n",
    "result"
   ]
  },
  {
   "cell_type": "markdown",
   "metadata": {},
   "source": [
    "## Query Single Product"
   ]
  },
  {
   "cell_type": "code",
   "execution_count": null,
   "metadata": {},
   "outputs": [
    {
     "name": "stderr",
     "output_type": "stream",
     "text": [
      "INFO:root:{'body': '{\"iprcode\":\"0171670\"}', 'header': {}}\n"
     ]
    },
    {
     "name": "stdout",
     "output_type": "stream",
     "text": [
      "CPU times: user 4.36 ms, sys: 556 µs, total: 4.92 ms\n",
      "Wall time: 2.34 s\n"
     ]
    },
    {
     "data": {
      "text/plain": [
       "{'cprcode': '0171670',\n",
       " 'iprcode': '0171670',\n",
       " 'oprcode': '0171670',\n",
       " 'ordertype': 'Y',\n",
       " 'pr_abb': 'JIRAPAT YOUNG KALE 2',\n",
       " 'pr_active': 'Y',\n",
       " 'pr_cgcode': '05',\n",
       " 'pr_code': '0171670',\n",
       " 'pr_dpcode': '19',\n",
       " 'pr_engname': 'IRAPAT YOUNG KALE 200 G.',\n",
       " 'pr_ggcode': '057',\n",
       " 'pr_market': 'JIRAPAT ยอดคะน้า 200 G.',\n",
       " 'pr_name': 'JIRAPAT ยอดคะน้า 200 G.',\n",
       " 'pr_puqty': '1',\n",
       " 'pr_sa_method': '1',\n",
       " 'pr_sucode1': 'CM845',\n",
       " 'pr_suref3': 'A',\n",
       " 'prtype': 'I',\n",
       " 'psqty': '1',\n",
       " 'pstype': '1'}"
      ]
     },
     "execution_count": null,
     "metadata": {},
     "output_type": "execute_result"
    }
   ],
   "source": [
    "%%time\n",
    "result = sdk.querySingleProduct('0171670')\n",
    "result"
   ]
  },
  {
   "cell_type": "markdown",
   "metadata": {},
   "source": [
    "## All Query"
   ]
  },
  {
   "cell_type": "code",
   "execution_count": null,
   "metadata": {},
   "outputs": [
    {
     "data": {
      "text/plain": [
       "('0217153',\n",
       " {'0217153': {'cprcode': '0217153',\n",
       "   'iprcode': '0217153',\n",
       "   'oprcode': '0217153',\n",
       "   'ordertype': 'Y',\n",
       "   'pr_abb': 'COCOA LOCO MILK CHOC',\n",
       "   'pr_active': 'Y',\n",
       "   'pr_cgcode': '98',\n",
       "   'pr_code': '0217153',\n",
       "   'pr_dpcode': '28',\n",
       "   'pr_engname': 'COCOA LOCO MILK CHOCOLATE OWL LOLLY 26G.',\n",
       "   'pr_ggcode': '003',\n",
       "   'pr_market': 'COCOA LOCO MILK CHOCOLATE OWL',\n",
       "   'pr_name': 'COCOA LOCO MILK CHOCOLATE OWL LOLLY 26G.',\n",
       "   'pr_puqty': '24',\n",
       "   'pr_sa_method': '1',\n",
       "   'pr_sucode1': 'F1222',\n",
       "   'pr_suref3': 'S',\n",
       "   'prtype': 'I',\n",
       "   'psqty': '1',\n",
       "   'pstype': '1'}})"
      ]
     },
     "execution_count": null,
     "metadata": {},
     "output_type": "execute_result"
    }
   ],
   "source": [
    "result = sdk.allQuery()\n",
    "sdk.printFirst(result)"
   ]
  },
  {
   "cell_type": "markdown",
   "metadata": {},
   "source": [
    "## Trigger s3 sync"
   ]
  },
  {
   "cell_type": "code",
   "execution_count": null,
   "metadata": {},
   "outputs": [
    {
     "name": "stdout",
     "output_type": "stream",
     "text": [
      "CPU times: user 3.99 ms, sys: 0 ns, total: 3.99 ms\n",
      "Wall time: 1.7 s\n"
     ]
    },
    {
     "data": {
      "text/plain": [
       "{'result': 'saved 10929 products'}"
      ]
     },
     "execution_count": null,
     "metadata": {},
     "output_type": "execute_result"
    }
   ],
   "source": [
    "%%time\n",
    "response = sdk.syncS3()\n",
    "response"
   ]
  },
  {
   "cell_type": "code",
   "execution_count": null,
   "metadata": {},
   "outputs": [
    {
     "name": "stdout",
     "output_type": "stream",
     "text": [
      "Converted Schema.ipynb.\n",
      "Converted index.ipynb.\n",
      "Converted product-sdk.ipynb.\n"
     ]
    }
   ],
   "source": [
    "#hide\n",
    "from nbdev.export import *\n",
    "notebook2script()"
   ]
  }
 ],
 "metadata": {
  "kernelspec": {
   "display_name": "python38",
   "language": "python",
   "name": "python38"
  }
 },
 "nbformat": 4,
 "nbformat_minor": 4
}
