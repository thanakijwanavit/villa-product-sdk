{
 "cells": [
  {
   "cell_type": "code",
   "execution_count": 2,
   "metadata": {},
   "outputs": [],
   "source": [
    "#hide\n",
    "# from villaInventorySdk.inventory import *"
   ]
  },
  {
   "cell_type": "markdown",
   "metadata": {},
   "source": [
    "# villaInventorySdk\n",
    "> read and write inventory in real time"
   ]
  },
  {
   "cell_type": "markdown",
   "metadata": {},
   "source": [
    "## Install"
   ]
  },
  {
   "cell_type": "markdown",
   "metadata": {},
   "source": [
    "`pip install villaInventorySdk`"
   ]
  },
  {
   "cell_type": "markdown",
   "metadata": {},
   "source": [
    "## How to use"
   ]
  },
  {
   "cell_type": "markdown",
   "metadata": {},
   "source": [
    "Uploading a large amount of data"
   ]
  },
  {
   "cell_type": "code",
   "execution_count": 10,
   "metadata": {},
   "outputs": [],
   "source": [
    "#hide\n",
    "import pickle\n",
    "KEY = ''\n",
    "PW = ''\n",
    "keypath = '/Users/nic/.villa-product-master-inventory'\n",
    "if KEY and PW:\n",
    "  with open (keypath, 'wb') as f:\n",
    "    pickle.dump({\n",
    "        'KEY': KEY,\n",
    "        'PW': PW\n",
    "    }, f)\n",
    "with open(keypath, 'rb') as f:\n",
    "  creden = pickle.load(f)\n",
    "USER = creden['KEY']\n",
    "PW = creden['PW']"
   ]
  },
  {
   "cell_type": "markdown",
   "metadata": {},
   "source": [
    "## sample input"
   ]
  },
  {
   "cell_type": "code",
   "execution_count": 11,
   "metadata": {},
   "outputs": [],
   "source": [
    "input = [\n",
    "    {'ib_brcode': '1023',\n",
    "     'ib_cf_qty': '835',\n",
    "     'ib_prcode': '84621',\n",
    "     'new_ib_vs_stock_cv': '839'},\n",
    "    {'ib_brcode': '1022',\n",
    "     'ib_cf_qty': '24',\n",
    "     'ib_prcode': '12424',\n",
    "     'new_ib_vs_stock_cv': '21'}\n",
    "]"
   ]
  },
  {
   "cell_type": "markdown",
   "metadata": {},
   "source": [
    "## Upload data"
   ]
  },
  {
   "cell_type": "code",
   "execution_count": 27,
   "metadata": {},
   "outputs": [],
   "source": [
    "#hide\n",
    "from villaInventorySdk.inventory import InventorySdk\n",
    "from random import randrange\n",
    "import boto3, time, json\n",
    "from dataclasses import dataclass\n",
    "from dataclasses_json import dataclass_json\n",
    "from datetime import datetime"
   ]
  },
  {
   "cell_type": "code",
   "execution_count": 15,
   "metadata": {},
   "outputs": [],
   "source": [
    "#hide\n",
    "inputBucketName= 'input-bucket-dev-manual'\n",
    "functionName= 'update-inventory-s3-dev-manual'\n",
    "invocationType = 'RequestResponse'"
   ]
  },
  {
   "cell_type": "code",
   "execution_count": 14,
   "metadata": {},
   "outputs": [],
   "source": [
    "#hide\n",
    "inputBucketName= 'input-bucket-test-inventory-6b3753e2f2'\n",
    "functionName= 'update-inventory-s3-test-inventory-6b3753e2f2'\n",
    "invocationType = 'RequestResponse'"
   ]
  },
  {
   "cell_type": "code",
   "execution_count": 30,
   "metadata": {},
   "outputs": [],
   "source": [
    "#hide\n",
    "def timeit(method):\n",
    "    def timed(*args, **kw):\n",
    "        ts = time.time()\n",
    "        result = method(*args, **kw)\n",
    "        te = time.time()\n",
    "        if 'log_time' in kw:\n",
    "            name = kw.get('log_name', method.__name__.upper())\n",
    "            kw['log_time'][name] = int((te - ts) * 1000)\n",
    "        else:\n",
    "            print ('%r took %2.2f ms' % \\\n",
    "                  (method.__name__, (te - ts) * 1000))\n",
    "        return result\n",
    "    return timed"
   ]
  },
  {
   "cell_type": "code",
   "execution_count": 29,
   "metadata": {},
   "outputs": [
    {
     "name": "stdout",
     "output_type": "stream",
     "text": [
      "uploading 2 items\n",
      "data was saved to s3\n",
      "data is saved to s3, invoking ingestion function\n",
      "input to lambda is {'inputBucketName': 'input-bucket-dev-manual', 'inputKeyName': 'input-data-name'}\n",
      "'upload' took 1014.23 ms\n"
     ]
    },
    {
     "data": {
      "text/plain": [
       "{'statusCode': 200,\n",
       " 'result': {'success': 2, 'failure': 0, 'failureMessage': [], 'timeTaken': 0}}"
      ]
     },
     "execution_count": 29,
     "metadata": {},
     "output_type": "execute_result"
    }
   ],
   "source": [
    "@timeit\n",
    "def upload(input):\n",
    "  print(f'uploading {len(input)} items')\n",
    "  sdk = InventorySdk(user=USER, pw=PW)\n",
    "  return sdk.updateWithS3(\n",
    "      input,\n",
    "      inputBucketName= inputBucketName, \n",
    "      functionName= functionName,\n",
    "      invocationType = invocationType\n",
    "    )\n",
    "\n",
    "json.loads(json.loads(upload(input)['Payload'].read()))"
   ]
  },
  {
   "cell_type": "markdown",
   "metadata": {},
   "source": [
    "## Query single product"
   ]
  },
  {
   "cell_type": "code",
   "execution_count": 34,
   "metadata": {},
   "outputs": [
    {
     "data": {
      "text/plain": [
       "{'ib_prcode': '84621',\n",
       " '1023': {'ib_cf_qty': 835,\n",
       "  'new_ib_bs_stock_cv': 839,\n",
       "  'lastUpdate': 1601548526.868942},\n",
       " 'lastUpdate': 1601548526.868942}"
      ]
     },
     "execution_count": 34,
     "metadata": {},
     "output_type": "execute_result"
    }
   ],
   "source": [
    "import json\n",
    "sdk = InventorySdk(user=USER, pw=PW)\n",
    "result = sdk.querySingleProduct(ib_prcode = '84621')\n",
    "inventory = json.loads(result)['inventory']\n",
    "json.loads(inventory)"
   ]
  },
  {
   "cell_type": "code",
   "execution_count": null,
   "metadata": {},
   "outputs": [],
   "source": []
  }
 ],
 "metadata": {
  "kernelspec": {
   "display_name": "Python 3",
   "language": "python",
   "name": "python3"
  },
  "language_info": {
   "codemirror_mode": {
    "name": "ipython",
    "version": 3
   },
   "file_extension": ".py",
   "mimetype": "text/x-python",
   "name": "python",
   "nbconvert_exporter": "python",
   "pygments_lexer": "ipython3",
   "version": "3.8.2"
  }
 },
 "nbformat": 4,
 "nbformat_minor": 4
}
