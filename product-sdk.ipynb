{
 "cells": [
  {
   "cell_type": "code",
   "execution_count": null,
   "metadata": {},
   "outputs": [],
   "source": [
    "# default_exp products"
   ]
  },
  {
   "cell_type": "code",
   "execution_count": null,
   "metadata": {},
   "outputs": [],
   "source": [
    "#hide\n",
    "# !pip install -q nbdev lambdasdk s3bz"
   ]
  },
  {
   "cell_type": "code",
   "execution_count": null,
   "metadata": {},
   "outputs": [],
   "source": [
    "#hide\n",
    "USER=None\n",
    "PW=None"
   ]
  },
  {
   "cell_type": "markdown",
   "metadata": {},
   "source": [
    "# Products\n",
    "\n",
    "> interact with product apis"
   ]
  },
  {
   "cell_type": "code",
   "execution_count": null,
   "metadata": {},
   "outputs": [],
   "source": [
    "#hide\n",
    "from nbdev.showdoc import *\n",
    "import logging"
   ]
  },
  {
   "cell_type": "code",
   "execution_count": null,
   "metadata": {},
   "outputs": [],
   "source": [
    "#export\n",
    "from botocore.config import Config\n",
    "from s3bz.s3bz import S3, Requests\n",
    "from lambdasdk.lambdasdk import Lambda, InvocationType\n",
    "from villaProductSdk.schema import Event, Response\n",
    "from typing import Optional, List\n",
    "import ujson as json\n",
    "from nicHelper.wrappers import add_method\n",
    "from nicHelper.exception import errorString\n",
    "from awsSchema.apigateway import Event, Response\n",
    "from dataclasses_json import dataclass_json\n",
    "from dataclasses import dataclass\n",
    "import bz2,  boto3, base64, logging"
   ]
  },
  {
   "cell_type": "code",
   "execution_count": null,
   "metadata": {},
   "outputs": [],
   "source": [
    "#hide\n",
    "logging.basicConfig(level=logging.INFO)"
   ]
  },
  {
   "cell_type": "code",
   "execution_count": null,
   "metadata": {},
   "outputs": [],
   "source": [
    "#export\n",
    "class FunctionNames:\n",
    "  '''determine function and resources name based on branchName'''\n",
    "  def __init__(self, branchName:str = 'dev-manual'):\n",
    "    self.branchName = branchName\n",
    "  dumpToS3 = lambda self: f'product-dump-s3-{self.branchName}'\n",
    "  updateProduct = lambda self: f'product-update-{self.branchName}'\n",
    "  updateS3 = lambda self: f'product-update-s3-{self.branchName}'\n",
    "  singleQuery = lambda self: f'product-get-{self.branchName}'\n",
    "  allQuery = lambda self: f'product-get-all-{self.branchName}'\n",
    "  inputBucket = lambda self: f'input-product-bucket-{self.branchName}'\n",
    "  inventoryBucket = lambda self: f'product-bucket-{self.branchName}'\n",
    "  listQuery = lambda self: f'product-get-list-{self.branchName}'\n",
    "  "
   ]
  },
  {
   "cell_type": "code",
   "execution_count": null,
   "metadata": {},
   "outputs": [],
   "source": [
    "#export\n",
    "class ProductSdk:\n",
    "  '''\n",
    "    the main class for interacting with product endpoint\n",
    "    user/pw are optional\n",
    "  '''\n",
    "  def __init__(self, \n",
    "               branch:str = 'dev-manual', \n",
    "               user:Optional[str] = None, \n",
    "               pw:Optional[str] = None,\n",
    "               region:str = 'ap-southeast-1'):\n",
    "    self.branchName = branch\n",
    "    self.functionNames = FunctionNames(branchName = branch)\n",
    "    self.lambdaClient = Lambda(user =user, pw=pw, region = region)\n",
    "    self.user = user; self.pw = pw; self.region = region\n",
    "    \n",
    "  @staticmethod\n",
    "  def returnLambdaResponse(lambdaResponse:dict):\n",
    "    try:\n",
    "      return Response.fromDict(lambdaResponse).body\n",
    "    except:\n",
    "      logging.exception(f'error parsing body, perhaps there is no body in response\\\n",
    "      response is {lambdaResponse}')\n",
    "      logging.error(lambdaResponse)\n",
    "      \n",
    "  @staticmethod\n",
    "  def printFirst(inputDict:dict):\n",
    "    return next(iter(inputDict.items()))\n",
    "  \n",
    "  def generalInvoke(self, functionName, payload):\n",
    "    lambdaResponse = self.lambdaClient.invoke(\n",
    "      functionName = functionName, input = payload\n",
    "    )\n",
    "    try:\n",
    "      response:Response = Response.fromDict(lambdaResponse)\n",
    "    except:\n",
    "      print('unable to parse response')\n",
    "      print(lambdaResponse)\n",
    "      raise Exception(errorString())\n",
    "    if response.statusCode == 200:\n",
    "      return response.body\n",
    "    else:\n",
    "      print('error')\n",
    "      return response.body\n",
    "    return self.returnLambdaResponse(lambdaResponse)\n",
    "    \n",
    "  def updateWithS3(self, data, \n",
    "                   inputKeyName = 'input-data-name', \n",
    "                   invocationType = InvocationType.event,\n",
    "                   user= None, pw= None):\n",
    "    # put users if not specified\n",
    "    user = user or self.user; pw = pw or self.pw\n",
    "    \n",
    "    # extract function name and inputbucket name\n",
    "    inputBucketName = self.functionNames.inputBucket()\n",
    "    functionName = self.functionNames.updateS3()\n",
    "    logging.info(f'bucket is {inputBucketName}')\n",
    "    \n",
    "    # save data to s3\n",
    "    S3.save(key = inputKeyName, \n",
    "            objectToSave = data , \n",
    "            bucket = inputBucketName,\n",
    "            user=user, pw=pw)\n",
    "    logging.info(f'data is saved to s3, invoking ingestion function')\n",
    "    \n",
    "    # call lambda function\n",
    "    inputValue = Event(body = json.dumps({ 'key': inputKeyName })).to_dict()\n",
    "    logging.info(f'input to lambda is {inputValue}')\n",
    "    lambdaResponse = self.lambdaClient.invoke(\n",
    "      functionName= functionName ,\n",
    "      input=inputValue, \n",
    "      invocationType= invocationType )\n",
    "    logging.info(f'lambdaResponse is {lambdaResponse}')\n",
    "    if invocationType == 'Event': return \"successfully sent event, please watch your slack\"\n",
    "    if lambdaResponse: return self.returnLambdaResponse(lambdaResponse)\n",
    "\n",
    "  \n",
    "  def allQuery(self):\n",
    "    functionName = self.functionNames.allQuery()\n",
    "    lambdaResponse = self.lambdaClient.invoke(\n",
    "      functionName = functionName, input = {}\n",
    "    )\n",
    "    url = Response.fromDict(lambdaResponse).body['url']\n",
    "    result = Requests.getContentFromUrl(url)\n",
    "    return result\n",
    "  def syncS3(self):\n",
    "    '''force s3 to sync with the newly input data'''\n",
    "    functionName = self.functionNames.dumpToS3()\n",
    "    lambdaResponse = self.lambdaClient.invoke(\n",
    "      functionName = functionName, input = {}\n",
    "    )\n",
    "    return self.returnLambdaResponse(lambdaResponse)\n"
   ]
  },
  {
   "cell_type": "code",
   "execution_count": null,
   "metadata": {},
   "outputs": [],
   "source": []
  },
  {
   "cell_type": "markdown",
   "metadata": {},
   "source": [
    "# Testing"
   ]
  },
  {
   "cell_type": "code",
   "execution_count": null,
   "metadata": {},
   "outputs": [],
   "source": [
    "from dataclasses import dataclass\n",
    "from dataclasses_json import dataclass_json\n",
    "from random import randrange\n",
    "from datetime import datetime\n",
    "from pprint import pprint\n",
    "import boto3\n",
    "import pandas as pd\n"
   ]
  },
  {
   "cell_type": "markdown",
   "metadata": {},
   "source": [
    "## generate dummy data for testing"
   ]
  },
  {
   "cell_type": "code",
   "execution_count": null,
   "metadata": {},
   "outputs": [],
   "source": [
    "#Dummy Data\n",
    "sampleProducts = [{'cprcode': '0171670', 'iprcode': '0171670', 'oprcode': '0171670', 'ordertype': 'Y', 'pr_abb': 'JIRAPAT YOUG KALE 2', 'pr_active': 'Y', 'pr_cgcode': '05', 'pr_code': '0171670', 'pr_dpcode': '19', 'pr_engname': 'JIRAPAT YOUNG KALE 200 G.', 'pr_ggcode': '057', 'pr_market': 'JIRAPAT ยอดคะน้า 200 G.', 'pr_name': 'JIRAPAT ยอดคะน้า 200 G.', 'pr_puqty': '1', 'pr_sa_method': '1', 'pr_sucode1': 'CM845     ', 'pr_suref3': 'A', 'prtype': 'I', 'psqty': '1', 'pstype': '1'}, {'cprcode': '0235141', 'iprcode': '0235141', 'oprcode': '0235141', 'ordertype': 'Y', 'pr_abb': 'EEBOO-PZCT3-PUZZLE', 'pr_active': 'Y', 'pr_cgcode': '08', 'pr_code': '0235141', 'pr_dpcode': '19', 'pr_engname': 'EEBOO,ANIMAL COUNTING PUZZLE_3ED,PZCT3', 'pr_ggcode': '113', 'pr_market': 'eeboo,PUZZLE-PZCT3', 'pr_name': 'EEBOO-PZCT3-ตัวต่อนับเลข ANIMAL COUNTING_3ED', 'pr_puqty': '1', 'pr_sa_method': '1', 'pr_sucode1': 'CM1979    ', 'pr_suref3': 'A', 'prtype': 'I', 'psqty': '1', 'pstype': '1'}, {'cprcode': '0217153', 'iprcode': '0217153', 'oprcode': '0217153', 'ordertype': 'Y', 'pr_abb': 'COCOA LOCO MILK CHOC', 'pr_active': 'Y', 'pr_cgcode': '98', 'pr_code': '0217153', 'pr_dpcode': '28', 'pr_engname': 'COCOA LOCO MILK CHOCOLATE OWL LOLLY 26G.', 'pr_ggcode': '003', 'pr_market': 'COCOA LOCO MILK CHOCOLATE OWL', 'pr_name': 'COCOA LOCO MILK CHOCOLATE OWL LOLLY 26G.', 'pr_puqty': '24', 'pr_sa_method': '1', 'pr_sucode1': 'F1222     ', 'pr_suref3': 'S', 'prtype': 'I', 'psqty': '1', 'pstype': '1'}, {'cprcode': '0182223', 'iprcode': '0182223', 'oprcode': '0182223', 'ordertype': 'Y', 'pr_abb': 'CIRIO PIZZASSIMO 400', 'pr_active': 'Y', 'pr_cgcode': '06', 'pr_code': '0182223', 'pr_dpcode': '06', 'pr_engname': 'CIRIO PIZZASSIMO 400G.', 'pr_ggcode': '004', 'pr_market': 'CIRIO ซอสทำพิซซ่า 400 G.', 'pr_name': 'CIRIO ซอสทำพิซซ่า 400 G.', 'pr_puqty': '12', 'pr_sa_method': '1', 'pr_sucode1': '2589      ', 'pr_suref3': 'C', 'prtype': 'I', 'psqty': '1', 'pstype': '1'}, {'cprcode': '0124461', 'iprcode': '0124461', 'oprcode': '0124461', 'ordertype': 'Y', 'pr_abb': 'NEW CHOICE LYCHEE', 'pr_active': 'Y', 'pr_cgcode': '02', 'pr_code': '0124461', 'pr_dpcode': '02', 'pr_engname': 'NEW CHOICE LYCHEE', 'pr_ggcode': '003', 'pr_market': 'NEW CHOICE กลิ่นลิ้นจี่', 'pr_name': 'NEW CHOICE กลิ่นลิ้นจี่', 'pr_puqty': '12', 'pr_sa_method': '1', 'pr_sucode1': '695       ', 'pr_suref3': 'A', 'prtype': 'I', 'psqty': '1', 'pstype': '1'}]\n"
   ]
  },
  {
   "cell_type": "markdown",
   "metadata": {},
   "source": [
    "## Create main class object"
   ]
  },
  {
   "cell_type": "code",
   "execution_count": null,
   "metadata": {},
   "outputs": [
    {
     "name": "stderr",
     "output_type": "stream",
     "text": [
      "INFO:botocore.credentials:Found credentials in shared credentials file: ~/.aws/credentials\n"
     ]
    }
   ],
   "source": [
    "sdk = ProductSdk(branch = 'dev-manual')"
   ]
  },
  {
   "cell_type": "markdown",
   "metadata": {},
   "source": [
    "## Upload s3 data"
   ]
  },
  {
   "cell_type": "code",
   "execution_count": null,
   "metadata": {},
   "outputs": [],
   "source": [
    "#hide"
   ]
  },
  {
   "cell_type": "code",
   "execution_count": null,
   "metadata": {},
   "outputs": [
    {
     "name": "stderr",
     "output_type": "stream",
     "text": [
      "INFO:root:bucket is input-product-bucket-dev-manual\n",
      "INFO:root:using accelerate endpoint\n",
      "INFO:root:data was saved to s3\n",
      "INFO:root:data is saved to s3, invoking ingestion function\n",
      "INFO:root:input to lambda is {'body': '{\"key\":\"input-data-name\"}', 'headers': {}, 'statusCode': 200}\n",
      "INFO:root:lambdaResponse is True\n"
     ]
    },
    {
     "name": "stdout",
     "output_type": "stream",
     "text": [
      "CPU times: user 51.1 ms, sys: 11.2 ms, total: 62.4 ms\n",
      "Wall time: 212 ms\n"
     ]
    },
    {
     "data": {
      "text/plain": [
       "'successfully sent event, please watch your slack'"
      ]
     },
     "execution_count": null,
     "metadata": {},
     "output_type": "execute_result"
    }
   ],
   "source": [
    "%%time\n",
    "result = sdk.updateWithS3(\n",
    "    sampleProducts,\n",
    "    invocationType = InvocationType.event\n",
    "  )\n",
    "result"
   ]
  },
  {
   "cell_type": "markdown",
   "metadata": {},
   "source": [
    "### test with lots of data"
   ]
  },
  {
   "cell_type": "code",
   "execution_count": null,
   "metadata": {},
   "outputs": [
    {
     "name": "stderr",
     "output_type": "stream",
     "text": [
      "/home/ec2-user/SageMaker/.persisted_conda/python38/lib/python3.8/site-packages/IPython/core/interactiveshell.py:3146: DtypeWarning: Columns (6,7,10,20,31) have mixed types.Specify dtype option on import or set low_memory=False.\n",
      "  has_raised = await self.run_ast_nodes(code_ast.body, cell_name,\n"
     ]
    }
   ],
   "source": [
    "data = list(pd.read_csv('./sampleData/products.csv').fillna('none').astype('string').T.to_dict().values())"
   ]
  },
  {
   "cell_type": "code",
   "execution_count": null,
   "metadata": {},
   "outputs": [
    {
     "name": "stderr",
     "output_type": "stream",
     "text": [
      "INFO:root:bucket is input-product-bucket-dev-manual\n",
      "INFO:root:using accelerate endpoint\n",
      "INFO:root:data was saved to s3\n",
      "INFO:root:data is saved to s3, invoking ingestion function\n",
      "INFO:root:input to lambda is {'body': '{\"key\":\"input-data-name\"}', 'headers': {}, 'statusCode': 200}\n",
      "INFO:root:lambdaResponse is True\n"
     ]
    },
    {
     "name": "stdout",
     "output_type": "stream",
     "text": [
      "CPU times: user 419 ms, sys: 3.95 ms, total: 423 ms\n",
      "Wall time: 545 ms\n"
     ]
    },
    {
     "data": {
      "text/plain": [
       "'successfully sent event, please watch your slack'"
      ]
     },
     "execution_count": null,
     "metadata": {},
     "output_type": "execute_result"
    }
   ],
   "source": [
    "%%time\n",
    "# data[0]\n",
    "# try with 100 rows\n",
    "result = sdk.updateWithS3(\n",
    "    data[:1000],\n",
    "    invocationType = InvocationType.event\n",
    "  )\n",
    "result"
   ]
  },
  {
   "cell_type": "markdown",
   "metadata": {},
   "source": [
    "## Query Single Product"
   ]
  },
  {
   "cell_type": "code",
   "execution_count": null,
   "metadata": {},
   "outputs": [],
   "source": [
    "#export\n",
    "@add_method(ProductSdk)\n",
    "def querySingleProduct(self, iprcode = '0171670', user=None, pw=None):\n",
    "  '''query a single product'''\n",
    "  #extract function name\n",
    "  functionName = self.functionNames.singleQuery()\n",
    "  query = {'iprcode': iprcode}\n",
    "  try:\n",
    "    inputValue = Event.getInput(query)\n",
    "    lambdaResponse = self.lambdaClient.invoke( functionName = functionName , input = inputValue )\n",
    "    return self.returnLambdaResponse(lambdaResponse)\n",
    "  except:\n",
    "    print('calling lambda failed')\n"
   ]
  },
  {
   "cell_type": "code",
   "execution_count": null,
   "metadata": {},
   "outputs": [
    {
     "data": {
      "text/plain": [
       "{'0171670': {'cprcode': '0171670',\n",
       "  'iprcode': '0171670',\n",
       "  'oprcode': '0171670',\n",
       "  'ordertype': 'Y',\n",
       "  'pr_abb': 'JIRAPAT YOUNG KALE 2',\n",
       "  'pr_active': 'Y',\n",
       "  'pr_cgcode': '05',\n",
       "  'pr_code': '0171670',\n",
       "  'pr_dpcode': '19',\n",
       "  'pr_engname': 'JIRAPAT YOUNG KALE 200 G.',\n",
       "  'pr_ggcode': '057',\n",
       "  'pr_market': 'JIRAPAT ยอดคะน้า 200 G.',\n",
       "  'pr_name': 'JIRAPAT ยอดคะน้า 200 G.',\n",
       "  'pr_puqty': '1.00',\n",
       "  'pr_sa_method': '1',\n",
       "  'pr_sucode1': 'CM845',\n",
       "  'pr_suref3': 'A',\n",
       "  'prtype': 'I',\n",
       "  'psqty': '1',\n",
       "  'pstype': '1',\n",
       "  'pr_country_th': 'none',\n",
       "  'pr_country_en': 'none',\n",
       "  'pr_keyword_th': 'none',\n",
       "  'pr_keyword_en': 'none',\n",
       "  'pr_filter_th': 'none',\n",
       "  'pr_filter_en': 'none',\n",
       "  'online_category_l1_th': 'none',\n",
       "  'online_category_l1_en': 'none',\n",
       "  'online_category_l2_th': 'none',\n",
       "  'online_category_l2_en': 'none',\n",
       "  'online_category_l3_th': 'none',\n",
       "  'online_category_l3_en': 'none',\n",
       "  'content_en': '0171670 JIRAPAT YOUNG KALE 200 G.',\n",
       "  'content_th': 'JIRAPAT YOUNG KALE 200 G.',\n",
       "  'hema_brand_th': 'none',\n",
       "  'hema_brand_en': 'none',\n",
       "  'hema_sizedesc': 'none'},\n",
       " 'iprcode': '0171670',\n",
       " 'cprcode': '0171670',\n",
       " 'oprcode': '0171670',\n",
       " 'ordertype': 'Y',\n",
       " 'pr_abb': 'JIRAPAT YOUG KALE 2',\n",
       " 'pr_active': 'Y',\n",
       " 'pr_cgcode': '05',\n",
       " 'pr_code': '0171670',\n",
       " 'pr_dpcode': '19',\n",
       " 'pr_engname': 'JIRAPAT YOUNG KALE 200 G.',\n",
       " 'pr_ggcode': '057',\n",
       " 'pr_market': 'JIRAPAT ยอดคะน้า 200 G.',\n",
       " 'pr_name': 'JIRAPAT ยอดคะน้า 200 G.',\n",
       " 'pr_puqty': '1',\n",
       " 'pr_sa_method': '1',\n",
       " 'pr_sucode1': 'CM845',\n",
       " 'pr_suref3': 'A',\n",
       " 'prtype': 'I',\n",
       " 'psqty': '1',\n",
       " 'pstype': '1'}"
      ]
     },
     "execution_count": null,
     "metadata": {},
     "output_type": "execute_result"
    }
   ],
   "source": [
    "result = sdk.querySingleProduct('0171670')\n",
    "result"
   ]
  },
  {
   "cell_type": "code",
   "execution_count": null,
   "metadata": {},
   "outputs": [
    {
     "data": {
      "text/plain": [
       "{'error': 'product not found'}"
      ]
     },
     "execution_count": null,
     "metadata": {},
     "output_type": "execute_result"
    }
   ],
   "source": [
    "## failure query product notn found\n",
    "result = sdk.querySingleProduct('3203290')\n",
    "result"
   ]
  },
  {
   "cell_type": "markdown",
   "metadata": {},
   "source": [
    "## All Query"
   ]
  },
  {
   "cell_type": "code",
   "execution_count": null,
   "metadata": {},
   "outputs": [
    {
     "data": {
      "text/plain": [
       "('0217153',\n",
       " {'0217153': {'cprcode': '0217153',\n",
       "   'iprcode': '0217153',\n",
       "   'oprcode': '0217153',\n",
       "   'ordertype': 'Y',\n",
       "   'pr_abb': 'COCOA LOCO MILK CHOC',\n",
       "   'pr_active': 'Y',\n",
       "   'pr_cgcode': '98',\n",
       "   'pr_code': '0217153',\n",
       "   'pr_dpcode': '28',\n",
       "   'pr_engname': 'COCOA LOCO MILK CHOCOLATE OWL LOLLY 26G.',\n",
       "   'pr_ggcode': '003',\n",
       "   'pr_market': 'COCOA LOCO MILK CHOCOLATE OWL',\n",
       "   'pr_name': 'COCOA LOCO MILK CHOCOLATE OWL LOLLY 26G.',\n",
       "   'pr_puqty': '24.00',\n",
       "   'pr_sa_method': '1',\n",
       "   'pr_sucode1': 'F1239',\n",
       "   'pr_suref3': 'S',\n",
       "   'prtype': 'I',\n",
       "   'psqty': '1',\n",
       "   'pstype': '1',\n",
       "   'pr_country_th': '',\n",
       "   'pr_country_en': 'United Kingdom',\n",
       "   'pr_keyword_th': '',\n",
       "   'pr_keyword_en': '',\n",
       "   'pr_filter_th': '',\n",
       "   'pr_filter_en': '',\n",
       "   'online_category_l1_th': '',\n",
       "   'online_category_l1_en': '',\n",
       "   'online_category_l2_th': '',\n",
       "   'online_category_l2_en': '',\n",
       "   'online_category_l3_th': '',\n",
       "   'online_category_l3_en': '',\n",
       "   'villa_category_l1_en': 'Dry Grocery',\n",
       "   'villa_category_l2_en': 'Grocery',\n",
       "   'villa_category_l3_en': 'Cookies & Snacks',\n",
       "   'villa_category_l4_en': 'Biscuits & Crackers',\n",
       "   'content_en': '0217153 COCOA LOCO MILK CHOCOLATE OWL LOLLY 26G.',\n",
       "   'content_th': 'COCOA LOCO MILK CHOCOLATE OWL LOLLY 26G.',\n",
       "   'hema_brand_th': '',\n",
       "   'hema_brand_en': '',\n",
       "   'hema_sizedesc': '',\n",
       "   'pr_brand_en': '',\n",
       "   'pr_brand_th': '',\n",
       "   'pr_online_name_en': 'COCOA LOCO MILK CHOCOLATE OWL LOLLY 26G.',\n",
       "   'pr_online_name_th': 'COCOA LOCO MILK CHOCOLATE OWL LOLLY 26G.',\n",
       "   'hema_name_en': 'COCOA LOCO MILK CHOCOLATE OWL LOLLY 26G.',\n",
       "   'hema_name_th': 'COCOA LOCO MILK CHOCOLATE OWL LOLLY 26G.',\n",
       "   'pr_name_en': 'COCOA LOCO MILK CHOCOLATE OWL LOLLY 26G.',\n",
       "   'pr_name_th': 'COCOA LOCO MILK CHOCOLATE OWL LOLLY 26G.',\n",
       "   'pr_barcode': '5060148383378',\n",
       "   'pr_barcode2': '506014838337',\n",
       "   'sort_weight': '0'}})"
      ]
     },
     "execution_count": null,
     "metadata": {},
     "output_type": "execute_result"
    }
   ],
   "source": [
    "result = sdk.allQuery()\n",
    "sdk.printFirst(result)"
   ]
  },
  {
   "cell_type": "markdown",
   "metadata": {},
   "source": [
    "## Query list of items"
   ]
  },
  {
   "cell_type": "code",
   "execution_count": null,
   "metadata": {},
   "outputs": [],
   "source": [
    "#export\n",
    "@dataclass_json\n",
    "@dataclass\n",
    "class ProductsFromList:\n",
    "  iprcodes: List[str]"
   ]
  },
  {
   "cell_type": "code",
   "execution_count": null,
   "metadata": {},
   "outputs": [],
   "source": [
    "#export\n",
    "@add_method(ProductSdk)\n",
    "def queryList(self,iprcodes:List[str])->List[dict]:\n",
    "  return self.generalInvoke(functionName=self.functionNames.listQuery() ,payload=Event.getInput({'iprcodes': iprcodes}))\n",
    "  "
   ]
  },
  {
   "cell_type": "code",
   "execution_count": null,
   "metadata": {},
   "outputs": [
    {
     "data": {
      "text/plain": [
       "[{'0217153': {'cprcode': '0217153',\n",
       "   'iprcode': '0217153',\n",
       "   'oprcode': '0217153',\n",
       "   'ordertype': 'Y',\n",
       "   'pr_abb': 'COCOA LOCO MILK CHOC',\n",
       "   'pr_active': 'Y',\n",
       "   'pr_cgcode': '98',\n",
       "   'pr_code': '0217153',\n",
       "   'pr_dpcode': '28',\n",
       "   'pr_engname': 'COCOA LOCO MILK CHOCOLATE OWL LOLLY 26G.',\n",
       "   'pr_ggcode': '003',\n",
       "   'pr_market': 'COCOA LOCO MILK CHOCOLATE OWL',\n",
       "   'pr_name': 'COCOA LOCO MILK CHOCOLATE OWL LOLLY 26G.',\n",
       "   'pr_puqty': '24.00',\n",
       "   'pr_sa_method': '1',\n",
       "   'pr_sucode1': 'F1239',\n",
       "   'pr_suref3': 'S',\n",
       "   'prtype': 'I',\n",
       "   'psqty': '1',\n",
       "   'pstype': '1',\n",
       "   'pr_country_th': '',\n",
       "   'pr_country_en': 'United Kingdom',\n",
       "   'pr_keyword_th': '',\n",
       "   'pr_keyword_en': '',\n",
       "   'pr_filter_th': '',\n",
       "   'pr_filter_en': '',\n",
       "   'online_category_l1_th': '',\n",
       "   'online_category_l1_en': '',\n",
       "   'online_category_l2_th': '',\n",
       "   'online_category_l2_en': '',\n",
       "   'online_category_l3_th': '',\n",
       "   'online_category_l3_en': '',\n",
       "   'villa_category_l1_en': 'Dry Grocery',\n",
       "   'villa_category_l2_en': 'Grocery',\n",
       "   'villa_category_l3_en': 'Cookies & Snacks',\n",
       "   'villa_category_l4_en': 'Biscuits & Crackers',\n",
       "   'content_en': '0217153 COCOA LOCO MILK CHOCOLATE OWL LOLLY 26G.',\n",
       "   'content_th': 'COCOA LOCO MILK CHOCOLATE OWL LOLLY 26G.',\n",
       "   'hema_brand_th': '',\n",
       "   'hema_brand_en': '',\n",
       "   'hema_sizedesc': '',\n",
       "   'pr_brand_en': '',\n",
       "   'pr_brand_th': '',\n",
       "   'pr_online_name_en': 'COCOA LOCO MILK CHOCOLATE OWL LOLLY 26G.',\n",
       "   'pr_online_name_th': 'COCOA LOCO MILK CHOCOLATE OWL LOLLY 26G.',\n",
       "   'hema_name_en': 'COCOA LOCO MILK CHOCOLATE OWL LOLLY 26G.',\n",
       "   'hema_name_th': 'COCOA LOCO MILK CHOCOLATE OWL LOLLY 26G.',\n",
       "   'pr_name_en': 'COCOA LOCO MILK CHOCOLATE OWL LOLLY 26G.',\n",
       "   'pr_name_th': 'COCOA LOCO MILK CHOCOLATE OWL LOLLY 26G.',\n",
       "   'pr_barcode': '5060148383378',\n",
       "   'pr_barcode2': '506014838337',\n",
       "   'sort_weight': '0'}},\n",
       " {'203915': {'cprcode': '203915',\n",
       "   'iprcode': '203915',\n",
       "   'oprcode': '203915',\n",
       "   'ordertype': 'Y',\n",
       "   'pr_abb': 'MEIJI GUMMY CHOCO GR',\n",
       "   'pr_active': 'Y',\n",
       "   'pr_cgcode': '4',\n",
       "   'pr_code': '203915',\n",
       "   'pr_dpcode': '2.0',\n",
       "   'pr_engname': 'MEIJI GUMMY CHOCO GREEN GRAPE 30G',\n",
       "   'pr_ggcode': '2',\n",
       "   'pr_market': 'เมจิ กัมมี่ ช็อกโก กรีนเกรป 30',\n",
       "   'pr_name': 'เมจิ กัมมี่ ช็อกโก กรีนเกรป 30 กรัม',\n",
       "   'pr_puqty': '20.0',\n",
       "   'pr_sa_method': '1',\n",
       "   'pr_sucode1': '2943',\n",
       "   'pr_suref3': 'C',\n",
       "   'prtype': 'I',\n",
       "   'psqty': '1.0',\n",
       "   'pstype': '1.0',\n",
       "   'pr_country_th': 'none',\n",
       "   'pr_country_en': 'China',\n",
       "   'pr_keyword_th': 'none',\n",
       "   'pr_keyword_en': 'none',\n",
       "   'pr_filter_th': 'Grocery,Chocolate',\n",
       "   'pr_filter_en': 'Grocery,Chocolate',\n",
       "   'online_category_l1_th': 'สินค้าบริโภค',\n",
       "   'online_category_l1_en': 'Grocery',\n",
       "   'online_category_l2_th': 'ช็อคโกแลต',\n",
       "   'online_category_l2_en': 'Chocolate',\n",
       "   'online_category_l3_th': 'none',\n",
       "   'online_category_l3_en': 'none',\n",
       "   'villa_category_l1_en': 'Dry Grocery',\n",
       "   'villa_category_l2_en': 'Grocery',\n",
       "   'villa_category_l3_en': 'Candies',\n",
       "   'villa_category_l4_en': 'Confectionery',\n",
       "   'content_en': '0203915 Meiji Gummy Choco Green Grape 30g',\n",
       "   'content_th': 'Meiji Gummy Choco Green Grape 30g',\n",
       "   'hema_brand_th': 'Meiji',\n",
       "   'hema_brand_en': 'Meiji',\n",
       "   'hema_sizedesc': '30g',\n",
       "   'pr_brand_en': 'MEIJI',\n",
       "   'pr_brand_th': 'MEIJI',\n",
       "   'pr_online_name_en': 'Meiji Gummy Choco Green Grape 30g',\n",
       "   'pr_online_name_th': 'Meiji Gummy Choco Green Grape 30g',\n",
       "   'hema_name_en': 'Gummy Choco Green Grape',\n",
       "   'hema_name_th': 'Gummy Choco Green Grape',\n",
       "   'pr_name_en': 'MEIJI GUMMY CHOCO GREEN GRAPE 30G',\n",
       "   'pr_name_th': 'เมจิ กัมมี่ ช็อกโก กรีนเกรป 30 กรัม',\n",
       "   'sort_weight': '0.0'}},\n",
       " {'0000009': {'cprcode': '0000009',\n",
       "   'iprcode': '0000009',\n",
       "   'oprcode': '0000009',\n",
       "   'ordertype': 'Y',\n",
       "   'pr_abb': 'J. WALKER RED 70 CL.',\n",
       "   'pr_active': 'Y',\n",
       "   'pr_cgcode': '01',\n",
       "   'pr_code': '0000009',\n",
       "   'pr_dpcode': '01',\n",
       "   'pr_engname': 'JOHNNIE WALKER RED 70 CL.',\n",
       "   'pr_ggcode': '001',\n",
       "   'pr_market': 'J. WALKER RED 70 CL',\n",
       "   'pr_name': 'JOHNNIE WALKER RED 70 CL',\n",
       "   'pr_puqty': '12.00',\n",
       "   'pr_sa_method': '1',\n",
       "   'pr_sucode1': '1782',\n",
       "   'pr_suref3': 'A',\n",
       "   'prtype': 'I',\n",
       "   'psqty': '1',\n",
       "   'pstype': '1',\n",
       "   'pr_country_th': '',\n",
       "   'pr_country_en': 'United Kingdom',\n",
       "   'pr_keyword_th': '',\n",
       "   'pr_keyword_en': '',\n",
       "   'pr_filter_th': 'Alcohol,Spirits  Liqueurs',\n",
       "   'pr_filter_en': 'Alcohol,Spirits  Liqueurs',\n",
       "   'online_category_l1_th': 'เบียร์, ไวน์และสุรา',\n",
       "   'online_category_l1_en': 'Beer Wine & Spirits',\n",
       "   'online_category_l2_th': 'เหล้า',\n",
       "   'online_category_l2_en': 'Spirits & Liqueurs',\n",
       "   'online_category_l3_th': '',\n",
       "   'online_category_l3_en': '',\n",
       "   'villa_category_l1_en': 'Dry Grocery',\n",
       "   'villa_category_l2_en': 'Alcohol & Beverage',\n",
       "   'villa_category_l3_en': 'Whisky',\n",
       "   'villa_category_l4_en': 'Scoth Whisky',\n",
       "   'content_en': '0000009 Johnnie Walker Red 700ml',\n",
       "   'content_th': 'JOHNNIE WALKER RED 700ml',\n",
       "   'hema_brand_th': 'Johnnie Walker',\n",
       "   'hema_brand_en': 'Johnnie Walker',\n",
       "   'hema_sizedesc': '700ml',\n",
       "   'pr_brand_en': 'Johnnie Walker',\n",
       "   'pr_brand_th': 'Johnnie Walker',\n",
       "   'pr_online_name_en': 'Johnnie Walker Red 700ml',\n",
       "   'pr_online_name_th': 'JOHNNIE WALKER RED 700ml',\n",
       "   'hema_name_en': 'Johnnie Walker Red',\n",
       "   'hema_name_th': 'JOHNNIE WALKER RED',\n",
       "   'pr_name_en': 'JOHNNIE WALKER RED 70 CL.',\n",
       "   'pr_name_th': 'JOHNNIE WALKER RED 70 CL',\n",
       "   'sort_weight': 0}}]"
      ]
     },
     "execution_count": null,
     "metadata": {},
     "output_type": "execute_result"
    }
   ],
   "source": [
    "iprcodes = ['0217153','203915','0000009']\n",
    "sdk.queryList(iprcodes)"
   ]
  },
  {
   "cell_type": "markdown",
   "metadata": {},
   "source": [
    "## Trigger s3 sync"
   ]
  },
  {
   "cell_type": "code",
   "execution_count": null,
   "metadata": {},
   "outputs": [],
   "source": [
    "%%time\n",
    "response = sdk.syncS3()\n",
    "response"
   ]
  },
  {
   "cell_type": "code",
   "execution_count": null,
   "metadata": {},
   "outputs": [],
   "source": [
    "#hide\n",
    "from nbdev.export import *\n",
    "notebook2script()"
   ]
  },
  {
   "cell_type": "code",
   "execution_count": null,
   "metadata": {},
   "outputs": [],
   "source": [
    "%time\n",
    "import requests\n",
    "from io import BytesIO\n",
    "from PIL import Image\n",
    "\n",
    "##large Image\n",
    "url = 'http://d19oj5aeuefgv.cloudfront.net'\n",
    "sku = '0189194'\n",
    "Image.open(BytesIO(requests.get(f'{url}/{sku}').content),formats=['PNG'])"
   ]
  },
  {
   "cell_type": "code",
   "execution_count": null,
   "metadata": {},
   "outputs": [],
   "source": [
    "%time\n",
    "url = 'https://d1vl5j0v241n75.cloudfront.net'\n",
    "sku = '0189194'\n",
    "Image.open(BytesIO(requests.get(f'{url}/{sku}').content),formats=['PNG'])"
   ]
  }
 ],
 "metadata": {
  "kernelspec": {
   "display_name": "python38",
   "language": "python",
   "name": "python38"
  }
 },
 "nbformat": 4,
 "nbformat_minor": 4
}
