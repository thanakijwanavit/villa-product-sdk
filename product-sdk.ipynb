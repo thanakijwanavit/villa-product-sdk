{
 "cells": [
  {
   "cell_type": "code",
   "execution_count": 1,
   "metadata": {},
   "outputs": [],
   "source": [
    "# default_exp products"
   ]
  },
  {
   "cell_type": "code",
   "execution_count": 2,
   "metadata": {},
   "outputs": [],
   "source": [
    "#hide\n",
    "!pip install -q nbdev lambdasdk s3bz"
   ]
  },
  {
   "cell_type": "code",
   "execution_count": 3,
   "metadata": {},
   "outputs": [],
   "source": [
    "#hide\n",
    "import pickle\n",
    "KEY = ''\n",
    "PW = ''\n",
    "keypath = '/Users/nic/.villa-master-tester'\n",
    "if KEY and PW:\n",
    "  with open (keypath, 'wb') as f:\n",
    "    pickle.dump({\n",
    "        'KEY': KEY,\n",
    "        'PW': PW\n",
    "    }, f)\n",
    "with open(keypath, 'rb') as f:\n",
    "  creden = pickle.load(f)\n",
    "USER = creden['KEY']\n",
    "PW = creden['PW']"
   ]
  },
  {
   "cell_type": "markdown",
   "metadata": {},
   "source": [
    "# Products\n",
    "\n",
    "> interact with product apis"
   ]
  },
  {
   "cell_type": "code",
   "execution_count": 4,
   "metadata": {},
   "outputs": [],
   "source": [
    "#hide\n",
    "from nbdev.showdoc import *\n",
    "import logging"
   ]
  },
  {
   "cell_type": "code",
   "execution_count": 5,
   "metadata": {},
   "outputs": [],
   "source": [
    "#export\n",
    "from botocore.config import Config\n",
    "from s3bz.s3bz import S3, Requests\n",
    "from lambdasdk.lambdasdk import Lambda\n",
    "from villaProductSdk.schema import Event, Response\n",
    "from typing import Optional\n",
    "import ujson as json\n",
    "import bz2,  boto3, base64, logging"
   ]
  },
  {
   "cell_type": "code",
   "execution_count": 6,
   "metadata": {},
   "outputs": [],
   "source": [
    "#hide\n",
    "# logging.basicConfig(level=logging.INFO)"
   ]
  },
  {
   "cell_type": "code",
   "execution_count": 7,
   "metadata": {},
   "outputs": [],
   "source": [
    "#export\n",
    "class FunctionNames:\n",
    "  '''determine function and resources name based on branchName'''\n",
    "  def __init__(self, branchName:str = 'dev-manual'):\n",
    "    self.branchName = branchName\n",
    "  dumpToS3 = lambda self: f'product-dump-s3-{self.branchName}'\n",
    "  updateProduct = lambda self: f'product-update-{self.branchName}'\n",
    "  updateS3 = lambda self: f'product-update-s3-{self.branchName}'\n",
    "  singleQuery = lambda self: f'product-get-{self.branchName}'\n",
    "  allQuery = lambda self: f'product-get-all-{self.branchName}'\n",
    "  inputBucket = lambda self: f'input-product-bucket-{self.branchName}'\n",
    "  inventoryBucket = lambda self: f'product-bucket-{self.branchName}'\n",
    "  "
   ]
  },
  {
   "cell_type": "code",
   "execution_count": 8,
   "metadata": {},
   "outputs": [],
   "source": [
    "#export\n",
    "class ProductSdk:\n",
    "  '''\n",
    "    the main class for interacting with product endpoint\n",
    "    user/pw are optional\n",
    "  '''\n",
    "  def __init__(self, \n",
    "               branch:str = 'dev-manual', \n",
    "               user:Optional[str] = None, \n",
    "               pw:Optional[str] = None,\n",
    "               region:str = 'ap-southeast-1'):\n",
    "    self.branchName = branch\n",
    "    self.functionNames = FunctionNames(branchName = branch)\n",
    "    self.lambdaClient = Lambda(user =user, pw=pw, region = region)\n",
    "    self.user = user; self.pw = pw; self.region = region\n",
    "    \n",
    "  @staticmethod\n",
    "  def returnLambdaResponse(lambdaResponse:dict):\n",
    "    try:\n",
    "      return Response.fromDict(lambdaResponse).body\n",
    "    except:\n",
    "      logging.exception(f'error parsing body, perhaps there is no body in response\\\n",
    "      response is {lambdaResponse}')\n",
    "      logging.error(lambdaResponse)\n",
    "  @staticmethod\n",
    "  def printFirst(inputDict:dict):\n",
    "    return next(iter(inputDict.items()))\n",
    "    \n",
    "  def updateWithS3(self, data, \n",
    "                   inputKeyName = 'input-data-name', \n",
    "                   invocationType = 'RequestResponse',\n",
    "                   user= None, pw= None):\n",
    "    # put users if not specified\n",
    "    user = user or self.user; pw = pw or self.pw\n",
    "    \n",
    "    # extract function name and inputbucket name\n",
    "    inputBucketName = self.functionNames.inputBucket()\n",
    "    functionName = self.functionNames.updateS3()\n",
    "    logging.info(f'bucket is {inputBucketName}')\n",
    "    \n",
    "    # save data to s3\n",
    "    S3.save(key = inputKeyName, \n",
    "            objectToSave = data , \n",
    "            bucket = inputBucketName,\n",
    "            user=user, pw=pw)\n",
    "    logging.info(f'data is saved to s3, invoking ingestion function')\n",
    "    \n",
    "    # call lambda function\n",
    "    inputValue = Event(body = json.dumps({ 'key': inputKeyName })).to_dict()\n",
    "    logging.info(f'input to lambda is {inputValue}')\n",
    "    lambdaResponse = self.lambdaClient.invoke(\n",
    "      functionName= functionName ,\n",
    "      input=inputValue, \n",
    "      invocationType= invocationType )\n",
    "    logging.info(f'lambdaResponse is {lambdaResponse}')\n",
    "    return self.returnLambdaResponse(lambdaResponse)\n",
    "\n",
    "  def querySingleProduct(self, iprcode = '0171670', user=None, pw=None):\n",
    "    '''query a single product'''\n",
    "    #extract function name\n",
    "    functionName = self.functionNames.singleQuery()\n",
    "    query = {'iprcode': iprcode}\n",
    "    inputValue = Event(body = json.dumps(query)).to_dict()\n",
    "    logging.info(inputValue)\n",
    "    lambdaResponse = self.lambdaClient.invoke(\n",
    "        functionName = functionName , input = inputValue )\n",
    "    return self.returnLambdaResponse(lambdaResponse)\n",
    "  \n",
    "  def allQuery(self):\n",
    "    functionName = self.functionNames.allQuery()\n",
    "    lambdaResponse = self.lambdaClient.invoke(\n",
    "      functionName = functionName, input = {}\n",
    "    )\n",
    "    url = Response.fromDict(lambdaResponse).body['url']\n",
    "    result = Requests.getContentFromUrl(url)\n",
    "    return result\n",
    "  def syncS3(self):\n",
    "    '''force s3 to sync with the newly input data'''\n",
    "    functionName = self.functionNames.dumpToS3()\n",
    "    lambdaResponse = self.lambdaClient.invoke(\n",
    "      functionName = functionName, input = {}\n",
    "    )\n",
    "    return self.returnLambdaResponse(lambdaResponse)\n"
   ]
  },
  {
   "cell_type": "markdown",
   "metadata": {},
   "source": [
    "# Testing"
   ]
  },
  {
   "cell_type": "code",
   "execution_count": 9,
   "metadata": {},
   "outputs": [],
   "source": [
    "from dataclasses import dataclass\n",
    "from dataclasses_json import dataclass_json\n",
    "from random import randrange\n",
    "from datetime import datetime\n",
    "from pprint import pprint\n",
    "import boto3\n"
   ]
  },
  {
   "cell_type": "markdown",
   "metadata": {},
   "source": [
    "## generate dummy data for testing"
   ]
  },
  {
   "cell_type": "code",
   "execution_count": 10,
   "metadata": {},
   "outputs": [],
   "source": [
    "#Dummy Data\n",
    "sampleProducts = [{'cprcode': '0171670', 'iprcode': '0171670', 'oprcode': '0171670', 'ordertype': 'Y', 'pr_abb': 'JIRAPAT YOUG KALE 2', 'pr_active': 'Y', 'pr_cgcode': '05', 'pr_code': '0171670', 'pr_dpcode': '19', 'pr_engname': 'JIRAPAT YOUNG KALE 200 G.', 'pr_ggcode': '057', 'pr_market': 'JIRAPAT ยอดคะน้า 200 G.', 'pr_name': 'JIRAPAT ยอดคะน้า 200 G.', 'pr_puqty': '1', 'pr_sa_method': '1', 'pr_sucode1': 'CM845     ', 'pr_suref3': 'A', 'prtype': 'I', 'psqty': '1', 'pstype': '1'}, {'cprcode': '0235141', 'iprcode': '0235141', 'oprcode': '0235141', 'ordertype': 'Y', 'pr_abb': 'EEBOO-PZCT3-PUZZLE', 'pr_active': 'Y', 'pr_cgcode': '08', 'pr_code': '0235141', 'pr_dpcode': '19', 'pr_engname': 'EEBOO,ANIMAL COUNTING PUZZLE_3ED,PZCT3', 'pr_ggcode': '113', 'pr_market': 'eeboo,PUZZLE-PZCT3', 'pr_name': 'EEBOO-PZCT3-ตัวต่อนับเลข ANIMAL COUNTING_3ED', 'pr_puqty': '1', 'pr_sa_method': '1', 'pr_sucode1': 'CM1979    ', 'pr_suref3': 'A', 'prtype': 'I', 'psqty': '1', 'pstype': '1'}, {'cprcode': '0217153', 'iprcode': '0217153', 'oprcode': '0217153', 'ordertype': 'Y', 'pr_abb': 'COCOA LOCO MILK CHOC', 'pr_active': 'Y', 'pr_cgcode': '98', 'pr_code': '0217153', 'pr_dpcode': '28', 'pr_engname': 'COCOA LOCO MILK CHOCOLATE OWL LOLLY 26G.', 'pr_ggcode': '003', 'pr_market': 'COCOA LOCO MILK CHOCOLATE OWL', 'pr_name': 'COCOA LOCO MILK CHOCOLATE OWL LOLLY 26G.', 'pr_puqty': '24', 'pr_sa_method': '1', 'pr_sucode1': 'F1222     ', 'pr_suref3': 'S', 'prtype': 'I', 'psqty': '1', 'pstype': '1'}, {'cprcode': '0182223', 'iprcode': '0182223', 'oprcode': '0182223', 'ordertype': 'Y', 'pr_abb': 'CIRIO PIZZASSIMO 400', 'pr_active': 'Y', 'pr_cgcode': '06', 'pr_code': '0182223', 'pr_dpcode': '06', 'pr_engname': 'CIRIO PIZZASSIMO 400G.', 'pr_ggcode': '004', 'pr_market': 'CIRIO ซอสทำพิซซ่า 400 G.', 'pr_name': 'CIRIO ซอสทำพิซซ่า 400 G.', 'pr_puqty': '12', 'pr_sa_method': '1', 'pr_sucode1': '2589      ', 'pr_suref3': 'C', 'prtype': 'I', 'psqty': '1', 'pstype': '1'}, {'cprcode': '0124461', 'iprcode': '0124461', 'oprcode': '0124461', 'ordertype': 'Y', 'pr_abb': 'NEW CHOICE LYCHEE', 'pr_active': 'Y', 'pr_cgcode': '02', 'pr_code': '0124461', 'pr_dpcode': '02', 'pr_engname': 'NEW CHOICE LYCHEE', 'pr_ggcode': '003', 'pr_market': 'NEW CHOICE กลิ่นลิ้นจี่', 'pr_name': 'NEW CHOICE กลิ่นลิ้นจี่', 'pr_puqty': '12', 'pr_sa_method': '1', 'pr_sucode1': '695       ', 'pr_suref3': 'A', 'prtype': 'I', 'psqty': '1', 'pstype': '1'}]\n"
   ]
  },
  {
   "cell_type": "markdown",
   "metadata": {},
   "source": [
    "## Create main class object"
   ]
  },
  {
   "cell_type": "code",
   "execution_count": 11,
   "metadata": {},
   "outputs": [],
   "source": [
    "sdk = ProductSdk(branch = 'dev-manual', user=USER, pw=PW)"
   ]
  },
  {
   "cell_type": "markdown",
   "metadata": {},
   "source": [
    "## Upload s3 data"
   ]
  },
  {
   "cell_type": "code",
   "execution_count": 12,
   "metadata": {},
   "outputs": [],
   "source": [
    "#hide"
   ]
  },
  {
   "cell_type": "code",
   "execution_count": 13,
   "metadata": {},
   "outputs": [
    {
     "name": "stderr",
     "output_type": "stream",
     "text": [
      "ERROR:root:error parsing body, perhaps there is no body in response      response is {'errorMessage': \"invalid literal for int() with base 10: ''\", 'errorType': 'ValueError', 'stackTrace': ['  File \"/var/task/villaProductDatabase/database.py\", line 144, in lambdaUpdateS3\\n    updateResult = ProductDatabase.updateS3Input(\\n', '  File \"/var/task/villaProductDatabase/update.py\", line 81, in updateS3Input\\n    updateResult = cls.valueUpdate(s3Result)\\n', '  File \"/var/task/villaProductDatabase/update.py\", line 62, in valueUpdate\\n    itemsUpdated[\\'timetaken\\'] = (datetime.now()- t0).total_seconds()*1000\\n', '  File \"/opt/python/pynamodb/models.py\", line 113, in __exit__\\n    return self.commit()\\n', '  File \"/opt/python/pynamodb/models.py\", line 131, in commit\\n    data = self.model._get_connection().batch_write_item(\\n', '  File \"/opt/python/pynamodb/connection/table.py\", line 173, in batch_write_item\\n    return self.connection.batch_write_item(\\n', '  File \"/opt/python/pynamodb/connection/base.py\", line 1159, in batch_write_item\\n    return self.dispatch(BATCH_WRITE_ITEM, operation_kwargs)\\n', '  File \"/opt/python/pynamodb/connection/base.py\", line 349, in dispatch\\n    data = self._make_api_call(operation_name, operation_kwargs)\\n', '  File \"/opt/python/pynamodb/connection/base.py\", line 379, in _make_api_call\\n    return self.dax_write_client.dispatch(operation_name, operation_kwargs)\\n', '  File \"/opt/python/pynamodb/connection/base.py\", line 559, in dax_write_client\\n    self._dax_write_client = DaxClient(\\n', '  File \"/opt/python/pynamodb/connection/dax.py\", line 30, in __init__\\n    self.connection = AmazonDaxClient(\\n', '  File \"/opt/python/amazondax/AmazonDaxClient.py\", line 177, in __init__\\n    self._cluster = Cluster(self._region_name,\\n', '  File \"/opt/python/amazondax/Cluster.py\", line 30, in __init__\\n    self._discovery_endpoints = [_parse_host_ports(endpoint) for endpoint in discovery_endpoints]\\n', '  File \"/opt/python/amazondax/Cluster.py\", line 30, in <listcomp>\\n    self._discovery_endpoints = [_parse_host_ports(endpoint) for endpoint in discovery_endpoints]\\n', '  File \"/opt/python/amazondax/Cluster.py\", line 116, in _parse_host_ports\\n    return parts[0].strip(), int(parts[1].strip())\\n']}\n",
      "Traceback (most recent call last):\n",
      "  File \"<ipython-input-8-abc8b295e06c>\", line 20, in returnLambdaResponse\n",
      "    return Response.fromDict(lambdaResponse).body\n",
      "  File \"/Users/nic/pip/villa-product-sdk/villaProductSdk/schema.py\", line 27, in fromDict\n",
      "    body = dictInput.pop('body')\n",
      "KeyError: 'body'\n",
      "ERROR:root:{'errorMessage': \"invalid literal for int() with base 10: ''\", 'errorType': 'ValueError', 'stackTrace': ['  File \"/var/task/villaProductDatabase/database.py\", line 144, in lambdaUpdateS3\\n    updateResult = ProductDatabase.updateS3Input(\\n', '  File \"/var/task/villaProductDatabase/update.py\", line 81, in updateS3Input\\n    updateResult = cls.valueUpdate(s3Result)\\n', '  File \"/var/task/villaProductDatabase/update.py\", line 62, in valueUpdate\\n    itemsUpdated[\\'timetaken\\'] = (datetime.now()- t0).total_seconds()*1000\\n', '  File \"/opt/python/pynamodb/models.py\", line 113, in __exit__\\n    return self.commit()\\n', '  File \"/opt/python/pynamodb/models.py\", line 131, in commit\\n    data = self.model._get_connection().batch_write_item(\\n', '  File \"/opt/python/pynamodb/connection/table.py\", line 173, in batch_write_item\\n    return self.connection.batch_write_item(\\n', '  File \"/opt/python/pynamodb/connection/base.py\", line 1159, in batch_write_item\\n    return self.dispatch(BATCH_WRITE_ITEM, operation_kwargs)\\n', '  File \"/opt/python/pynamodb/connection/base.py\", line 349, in dispatch\\n    data = self._make_api_call(operation_name, operation_kwargs)\\n', '  File \"/opt/python/pynamodb/connection/base.py\", line 379, in _make_api_call\\n    return self.dax_write_client.dispatch(operation_name, operation_kwargs)\\n', '  File \"/opt/python/pynamodb/connection/base.py\", line 559, in dax_write_client\\n    self._dax_write_client = DaxClient(\\n', '  File \"/opt/python/pynamodb/connection/dax.py\", line 30, in __init__\\n    self.connection = AmazonDaxClient(\\n', '  File \"/opt/python/amazondax/AmazonDaxClient.py\", line 177, in __init__\\n    self._cluster = Cluster(self._region_name,\\n', '  File \"/opt/python/amazondax/Cluster.py\", line 30, in __init__\\n    self._discovery_endpoints = [_parse_host_ports(endpoint) for endpoint in discovery_endpoints]\\n', '  File \"/opt/python/amazondax/Cluster.py\", line 30, in <listcomp>\\n    self._discovery_endpoints = [_parse_host_ports(endpoint) for endpoint in discovery_endpoints]\\n', '  File \"/opt/python/amazondax/Cluster.py\", line 116, in _parse_host_ports\\n    return parts[0].strip(), int(parts[1].strip())\\n']}\n"
     ]
    },
    {
     "name": "stdout",
     "output_type": "stream",
     "text": [
      "CPU times: user 74.9 ms, sys: 10.1 ms, total: 85 ms\n",
      "Wall time: 1.02 s\n"
     ]
    }
   ],
   "source": [
    "%%time\n",
    "result = sdk.updateWithS3(\n",
    "    sampleProducts,\n",
    "    invocationType = 'RequestResponse'\n",
    "  )\n",
    "result"
   ]
  },
  {
   "cell_type": "markdown",
   "metadata": {},
   "source": [
    "## Query Single Product"
   ]
  },
  {
   "cell_type": "code",
   "execution_count": 14,
   "metadata": {},
   "outputs": [
    {
     "name": "stdout",
     "output_type": "stream",
     "text": [
      "CPU times: user 3.45 ms, sys: 1.14 ms, total: 4.58 ms\n",
      "Wall time: 88 ms\n"
     ]
    },
    {
     "data": {
      "text/plain": [
       "{'cprcode': '0171670',\n",
       " 'iprcode': '0171670',\n",
       " 'oprcode': '0171670',\n",
       " 'ordertype': 'Y',\n",
       " 'pr_abb': 'JIRAPAT YOUNG KALE 2',\n",
       " 'pr_active': 'Y',\n",
       " 'pr_cgcode': '05',\n",
       " 'pr_code': '0171670',\n",
       " 'pr_dpcode': '19',\n",
       " 'pr_engname': 'JIRAPAT YOUNG KALE 200 G.',\n",
       " 'pr_ggcode': '057',\n",
       " 'pr_market': 'JIRAPAT ยอดคะน้า 200 G.',\n",
       " 'pr_name': 'JIRAPAT ยอดคะน้า 200 G.',\n",
       " 'pr_puqty': '1',\n",
       " 'pr_sa_method': '1',\n",
       " 'pr_sucode1': 'CM845',\n",
       " 'pr_suref3': 'A',\n",
       " 'prtype': 'I',\n",
       " 'psqty': '1',\n",
       " 'pstype': '1'}"
      ]
     },
     "execution_count": 14,
     "metadata": {},
     "output_type": "execute_result"
    }
   ],
   "source": [
    "%%time\n",
    "result = sdk.querySingleProduct('0171670')\n",
    "result"
   ]
  },
  {
   "cell_type": "markdown",
   "metadata": {},
   "source": [
    "## All Query"
   ]
  },
  {
   "cell_type": "code",
   "execution_count": 15,
   "metadata": {},
   "outputs": [
    {
     "data": {
      "text/plain": [
       "('0217153',\n",
       " {'0217153': {'cprcode': '0217153',\n",
       "   'iprcode': '0217153',\n",
       "   'oprcode': '0217153',\n",
       "   'ordertype': 'Y',\n",
       "   'pr_abb': 'COCOA LOCO MILK CHOC',\n",
       "   'pr_active': 'Y',\n",
       "   'pr_cgcode': '98',\n",
       "   'pr_code': '0217153',\n",
       "   'pr_dpcode': '28',\n",
       "   'pr_engname': 'COCOA LOCO MILK CHOCOLATE OWL LOLLY 26G.',\n",
       "   'pr_ggcode': '003',\n",
       "   'pr_market': 'COCOA LOCO MILK CHOCOLATE OWL',\n",
       "   'pr_name': 'COCOA LOCO MILK CHOCOLATE OWL LOLLY 26G.',\n",
       "   'pr_puqty': '24',\n",
       "   'pr_sa_method': '1',\n",
       "   'pr_sucode1': 'F1222',\n",
       "   'pr_suref3': 'S',\n",
       "   'prtype': 'I',\n",
       "   'psqty': '1',\n",
       "   'pstype': '1'}})"
      ]
     },
     "execution_count": 15,
     "metadata": {},
     "output_type": "execute_result"
    }
   ],
   "source": [
    "result = sdk.allQuery()\n",
    "sdk.printFirst(result)"
   ]
  },
  {
   "cell_type": "markdown",
   "metadata": {},
   "source": [
    "## Trigger s3 sync"
   ]
  },
  {
   "cell_type": "code",
   "execution_count": 16,
   "metadata": {},
   "outputs": [
    {
     "name": "stdout",
     "output_type": "stream",
     "text": [
      "CPU times: user 2.68 ms, sys: 942 µs, total: 3.62 ms\n",
      "Wall time: 394 ms\n"
     ]
    },
    {
     "data": {
      "text/plain": [
       "{'result': 'saved 5 products'}"
      ]
     },
     "execution_count": 16,
     "metadata": {},
     "output_type": "execute_result"
    }
   ],
   "source": [
    "%%time\n",
    "response = sdk.syncS3()\n",
    "response"
   ]
  },
  {
   "cell_type": "code",
   "execution_count": 17,
   "metadata": {},
   "outputs": [
    {
     "name": "stdout",
     "output_type": "stream",
     "text": [
      "Converted Schema.ipynb.\n",
      "Converted index.ipynb.\n",
      "Converted product-sdk.ipynb.\n"
     ]
    }
   ],
   "source": [
    "#hide\n",
    "from nbdev.export import *\n",
    "notebook2script()"
   ]
  },
  {
   "cell_type": "code",
   "execution_count": null,
   "metadata": {},
   "outputs": [],
   "source": []
  }
 ],
 "metadata": {
  "kernelspec": {
   "display_name": "Python 3",
   "language": "python",
   "name": "python3"
  },
  "language_info": {
   "codemirror_mode": {
    "name": "ipython",
    "version": 3
   },
   "file_extension": ".py",
   "mimetype": "text/x-python",
   "name": "python",
   "nbconvert_exporter": "python",
   "pygments_lexer": "ipython3",
   "version": "3.8.1"
  }
 },
 "nbformat": 4,
 "nbformat_minor": 4
}
