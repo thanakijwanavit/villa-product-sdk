{
 "cells": [
  {
   "cell_type": "code",
   "execution_count": 3,
   "metadata": {},
   "outputs": [],
   "source": [
    "# default_exp schema"
   ]
  },
  {
   "cell_type": "code",
   "execution_count": 4,
   "metadata": {},
   "outputs": [],
   "source": [
    "#export\n",
    "from dataclasses import field\n",
    "from dataclasses import dataclass\n",
    "from dataclasses_json import dataclass_json\n",
    "from typing import Optional, List\n",
    "import json\n",
    "\n",
    "@dataclass_json\n",
    "@dataclass\n",
    "class Response:\n",
    "  body: str\n",
    "  statusCode: int = 200\n",
    "  header: dict = field(default_factory = dict)\n",
    "  @classmethod\n",
    "  def fromDict(cls, dictInput:dict):\n",
    "    body = dictInput.pop('body')\n",
    "    return cls(\n",
    "      body = json.loads(body),\n",
    "      **dictInput\n",
    "    )\n",
    "  @classmethod\n",
    "  def getReturn(cls, body:dict, header:dict = {}, statusCode = 200)->dict:\n",
    "    returnObj = cls(\n",
    "      body = json.dumps(body),\n",
    "      header = header,\n",
    "      statusCode = statusCode\n",
    "                   ).to_dict()\n",
    "    return returnObj\n",
    "@dataclass_json\n",
    "@dataclass\n",
    "class Event:\n",
    "  body: str\n",
    "  header: dict = field(default_factory = dict)\n",
    "  def getBody(self):\n",
    "    return json.loads(self.body)\n",
    "  def getProducts(self):\n",
    "    return Products.from_json(self.body)\n",
    "  key = lambda self: json.loads(self.body)['key']\n",
    "  firstKey = lambda self: next(iter(json.loads(self.body).items()))\n",
    "@dataclass_json\n",
    "@dataclass\n",
    "class Product:\n",
    "  cprcode: str\n",
    "  iprcode: str\n",
    "  oprcode: str\n",
    "  ordertype: str\n",
    "  pr_abb: str\n",
    "@dataclass_json\n",
    "@dataclass\n",
    "class Products:\n",
    "  products: List[Product]"
   ]
  },
  {
   "cell_type": "code",
   "execution_count": null,
   "metadata": {},
   "outputs": [],
   "source": []
  }
 ],
 "metadata": {
  "kernelspec": {
   "display_name": "Python 3",
   "language": "python",
   "name": "python3"
  },
  "language_info": {
   "codemirror_mode": {
    "name": "ipython",
    "version": 3
   },
   "file_extension": ".py",
   "mimetype": "text/x-python",
   "name": "python",
   "nbconvert_exporter": "python",
   "pygments_lexer": "ipython3",
   "version": "3.8.1"
  }
 },
 "nbformat": 4,
 "nbformat_minor": 4
}
