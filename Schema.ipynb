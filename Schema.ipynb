{
 "cells": [
  {
   "cell_type": "code",
   "execution_count": null,
   "metadata": {},
   "outputs": [],
   "source": [
    "# default_exp schema"
   ]
  },
  {
   "cell_type": "markdown",
   "metadata": {},
   "source": [
    "# Schema"
   ]
  },
  {
   "cell_type": "code",
   "execution_count": null,
   "metadata": {},
   "outputs": [],
   "source": [
    "#export\n",
    "from dataclasses import field\n",
    "from dataclasses import dataclass, field\n",
    "from dataclasses_json import dataclass_json, Undefined\n",
    "from typing import Optional, List, Callable, Any\n",
    "import ujson as json\n",
    "\n",
    "@dataclass_json\n",
    "@dataclass\n",
    "class Response:\n",
    "  '''\n",
    "    parse response from apigateway\n",
    "  '''\n",
    "  body: str\n",
    "  statusCode: int = 200\n",
    "  header: dict = field(default_factory = dict)\n",
    "  @classmethod\n",
    "  def fromDict(cls, dictInput:dict):\n",
    "    '''\n",
    "      output object from Dict,\n",
    "      dictInput should follow apigateway proxy integration\n",
    "    '''\n",
    "    body = dictInput.pop('body')\n",
    "    return cls(\n",
    "      body = json.loads(body),\n",
    "      **dictInput\n",
    "    )\n",
    "  @classmethod\n",
    "  def getReturn(cls, body:dict, header:dict = {}, statusCode:int = 200)->dict:\n",
    "    '''\n",
    "      output dictionary which is suitable for apigateway proxy integration return\n",
    "    '''\n",
    "    returnObj = cls(\n",
    "      body = json.dumps(body),\n",
    "      header = header,\n",
    "      statusCode = statusCode\n",
    "                   ).to_dict()\n",
    "    return returnObj\n",
    "@dataclass_json(undefined=Undefined.EXCLUDE)\n",
    "@dataclass\n",
    "class Event:\n",
    "  '''\n",
    "    parse event from apigateway\n",
    "  '''\n",
    "  body: str\n",
    "  header: dict = field(default_factory = dict)\n",
    "  def getBody(self):\n",
    "    return json.loads(self.body)\n",
    "  def getProducts(self):\n",
    "    return Products.from_json(self.body)\n",
    "  key = lambda self: json.loads(self.body)['key']\n",
    "  firstKey = lambda self: next(iter(json.loads(self.body).items()))\n",
    "@dataclass_json\n",
    "@dataclass\n",
    "class Product:\n",
    "  cprcode: str\n",
    "  iprcode: str\n",
    "  oprcode: str\n",
    "  ordertype: str\n",
    "  pr_abb: str\n",
    "@dataclass_json\n",
    "@dataclass\n",
    "class Products:\n",
    "  products: List[Product]"
   ]
  },
  {
   "cell_type": "markdown",
   "metadata": {},
   "source": [
    "# Examples"
   ]
  },
  {
   "cell_type": "code",
   "execution_count": null,
   "metadata": {},
   "outputs": [
    {
     "data": {
      "text/plain": [
       "{'body': '{\"test\":\"test\"}', 'header': {}}"
      ]
     },
     "execution_count": null,
     "metadata": {},
     "output_type": "execute_result"
    }
   ],
   "source": [
    "Event(body = json.dumps({'test':'test'})).to_dict()"
   ]
  },
  {
   "cell_type": "code",
   "execution_count": null,
   "metadata": {},
   "outputs": [],
   "source": []
  }
 ],
 "metadata": {
  "kernelspec": {
   "display_name": "Python 3",
   "language": "python",
   "name": "python3"
  }
 },
 "nbformat": 4,
 "nbformat_minor": 4
}
